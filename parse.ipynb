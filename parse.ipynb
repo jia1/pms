{
 "cells": [
  {
   "cell_type": "code",
   "execution_count": null,
   "metadata": {
    "scrolled": true
   },
   "outputs": [],
   "source": [
    "from gensim.models import KeyedVectors\n",
    "\n",
    "w2v_model = KeyedVectors.load_word2vec_format('data/GoogleNews-vectors-negative300.bin', binary=True)"
   ]
  },
  {
   "cell_type": "code",
   "execution_count": null,
   "metadata": {},
   "outputs": [],
   "source": [
    "import numpy as np\n",
    "\n",
    "w2v_vocab = len(w2v_model.vocab)\n",
    "w2v_dim = 300\n",
    "w2v_zero = np.zeros(w2v_dim)"
   ]
  },
  {
   "cell_type": "code",
   "execution_count": null,
   "metadata": {},
   "outputs": [],
   "source": [
    "window_size = 7\n",
    "phrase = 2 * window_size + 1\n",
    "batch_size = 10\n",
    "epochs = 3"
   ]
  },
  {
   "cell_type": "code",
   "execution_count": null,
   "metadata": {},
   "outputs": [],
   "source": [
    "from keras.models import Sequential, load_model\n",
    "from keras.layers import Embedding, Flatten, LSTM, Dropout, Dense\n",
    "\n",
    "layers = [\n",
    "    Embedding(w2v_vocab, w2v_dim, input_length=phrase),\n",
    "    # Flatten(),\n",
    "    LSTM(phrase),\n",
    "    Dropout(0.5, seed=3000),\n",
    "    Dense(1, activation='softmax')\n",
    "]\n",
    "\n",
    "def generate_model():\n",
    "    model = Sequential()\n",
    "    for layer in layers:\n",
    "        print(layer)\n",
    "        model.add(layer)\n",
    "    model.compile(optimizer='rmsprop',\n",
    "                  metrics=['accuracy'],\n",
    "                  loss='categorical_crossentropy')\n",
    "    print(model.summary())\n",
    "    return model\n",
    "\n",
    "def fit_model(model, X, Y):\n",
    "    model.fit(X, Y,\n",
    "              batch_size=batch_size,\n",
    "              epochs=epochs)\n",
    "    return model\n",
    "\n",
    "def save_model_to_file(model, file_name):\n",
    "    model.save('{}.h5'.format(file_name))\n",
    "\n",
    "def load_model_from_file(file_name):\n",
    "    model = load_model('{}.h5'.format(file_name))\n",
    "    return model\n",
    "    \n",
    "def evaluate_model(model, X, Y):\n",
    "    score = model.evaluate(X,\n",
    "                           Y,\n",
    "                           batch_size=batch_size)\n",
    "    return score"
   ]
  },
  {
   "cell_type": "code",
   "execution_count": null,
   "metadata": {},
   "outputs": [],
   "source": [
    "from nltk.tokenize import sent_tokenize, word_tokenize\n",
    "from lxml import etree\n",
    "\n",
    "file = 'data/semeval2007/train/lexical-sample/english-lexical-sample.train.xml'\n",
    "root = etree.parse(file)\n",
    "\n",
    "lexelts = set()\n",
    "\n",
    "for lexelt in root.findall('lexelt'):\n",
    "    lexelt_item = lexelt.attrib['item']\n",
    "    lexelt_pos = lexelt.attrib['pos']\n",
    "    instances = lexelt.findall('instance')\n",
    "    instance_indexer = {} # {index of instance in X and Y: id of instance in data}\n",
    "    X = np.empty((len(instances), phrase, w2v_dim))\n",
    "    Y = np.empty(len(instances))\n",
    "    for instance_index, instance in enumerate(instances):\n",
    "        instance_id = instance.attrib['id']\n",
    "        answer_sense_id = instance.find('answer').attrib['senseid']\n",
    "        instance_indexer[instance_index] = instance_id\n",
    "        Y[instance_index] = answer_sense_id\n",
    "\n",
    "        context = instance.find('context')\n",
    "        head = context.find('head').text.strip()\n",
    "        etree.strip_tags(context, 'head')\n",
    "        words = list(map(lambda sentence: word_tokenize(sentence), sent_tokenize(context.text)))\n",
    "        sentence_index, word_index = -1, -1\n",
    "        for (s_index, sentence) in enumerate(words):\n",
    "            for (w_index, word) in enumerate(sentence):\n",
    "                if word == head:\n",
    "                    sentence_index, word_index = s_index, w_index\n",
    "                    break\n",
    "        if sentence_index == -1 or word_index == -1: # Lexelt did not exist in the context\n",
    "            continue\n",
    "\n",
    "        sentence = words[sentence_index]\n",
    "        lower_bound = max(0, word_index - window_size)\n",
    "        upper_bound = min(word_index + window_size, len(sentence))\n",
    "        w2v_vectors = np.empty((phrase, w2v_dim))\n",
    "        for w_index in range(lower_bound, upper_bound):\n",
    "            word = sentence[w_index]\n",
    "            if word in w2v_model:\n",
    "                w2v_vectors[w_index - lower_bound] = w2v_model[word]\n",
    "        X[instance_index] = w2v_vectors\n",
    "        break\n",
    "\n",
    "    model = generate_model()\n",
    "    fit_model(model, X, Y)\n",
    "    save_model_to_file(lexelt_item)\n",
    "    lexelts.add(lexelt_item)\n",
    "    break"
   ]
  },
  {
   "cell_type": "code",
   "execution_count": null,
   "metadata": {},
   "outputs": [],
   "source": [
    "for lexelt_item in lexelts:\n",
    "    model = load_model_from_file(lexelt_item)\n",
    "    score = evaluate_model(model)\n",
    "    print(score)"
   ]
  }
 ],
 "metadata": {
  "kernelspec": {
   "display_name": "pms",
   "language": "python",
   "name": "pms"
  },
  "language_info": {
   "codemirror_mode": {
    "name": "ipython",
    "version": 3
   },
   "file_extension": ".py",
   "mimetype": "text/x-python",
   "name": "python",
   "nbconvert_exporter": "python",
   "pygments_lexer": "ipython3",
   "version": "3.6.4"
  }
 },
 "nbformat": 4,
 "nbformat_minor": 2
}
