{
 "cells": [
  {
   "cell_type": "code",
   "execution_count": null,
   "metadata": {},
   "outputs": [],
   "source": [
    "from gensim.models import KeyedVectors\n",
    "\n",
    "w2v_dimensionality = 300\n",
    "w2v_model = KeyedVectors.load_word2vec_format('data/GoogleNews-vectors-negative300.bin', binary=True)"
   ]
  },
  {
   "cell_type": "code",
   "execution_count": null,
   "metadata": {},
   "outputs": [],
   "source": [
    "from lxml import etree\n",
    "\n",
    "file = 'data/semeval2007/train/lexical-sample/english-lexical-sample.train.xml'\n",
    "root = etree.parse(file)"
   ]
  },
  {
   "cell_type": "code",
   "execution_count": null,
   "metadata": {},
   "outputs": [],
   "source": [
    "from nltk.tokenize import sent_tokenize, word_tokenize\n",
    "\n",
    "import math\n",
    "import pandas\n",
    "from keras.models import Sequential\n",
    "from keras.layers import Dense\n",
    "from keras.layers import LSTM\n",
    "\n",
    "window_size = 7\n",
    "input_vector_length = 2 * window_size + 1\n",
    "\n",
    "number_of_epochs = 3\n",
    "batch_size = 10\n",
    "\n",
    "for lexelt in root.findall('lexelt'):\n",
    "    instance_indexer = {}\n",
    "    X = []\n",
    "    Y = []\n",
    "    lexelt_item = lexelt.attrib['item'].split('.')[0]\n",
    "    lexelt_pos = lexelt.attrib['pos']\n",
    "    for instance in lexelt.findall('instance'):\n",
    "        instance_id = instance.attrib['id']\n",
    "        answer_sense_id = instance.find('answer').attrib['senseid']\n",
    "        instance_indexer[len(Y)] = instance_id # Map instance id to index in X and Y\n",
    "        Y.append(answer_sense_id) # Add sense id (answer) to Y\n",
    "        context = instance.find('context')\n",
    "        head = context.find('head').text.strip()\n",
    "        etree.strip_tags(context, 'head')\n",
    "        sentences = sent_tokenize(context.text)\n",
    "        words = list(map(lambda sentence: word_tokenize(sentence), sentences)) # Tokenize into list of lists\n",
    "        sentence_index, word_index = -1, -1\n",
    "        for (s_index, sentence) in enumerate(words):\n",
    "            for (w_index, word) in enumerate(sentence):\n",
    "                if word == head:\n",
    "                    sentence_index, word_index = s_index, w_index\n",
    "                    break\n",
    "        if sentence_index == -1 or word_index == -1: # Somehow the lexelt does not exist in the context\n",
    "            continue\n",
    "        sentence = words[sentence_index]\n",
    "        left_bound = max(0, word_index - window_size)\n",
    "        right_bound = min(word_index + window_size, len(sentence))\n",
    "        left_pad = 0\n",
    "        w2v_vectors = []\n",
    "        for w_index in range(left_bound, right_bound):\n",
    "            word = sentence[w_index]\n",
    "            if word in w2v_model:\n",
    "                vector = w2v_model[word]\n",
    "                w2v_vectors.append(vector)\n",
    "            else:\n",
    "                if w_index < left_bound + window_size:\n",
    "                    left_pad += 1\n",
    "        right_pad = 2 * window_size + 1 - left_pad - len(w2v_vectors)\n",
    "        input_vectors = [None for i in range(left_pad)] + w2v_vectors + [None for i in range(right_pad)]\n",
    "        X.append(input_vectors) # Add list of w2v vectors to X\n",
    "    # Create model for the lexelt\n",
    "    model = Sequential()\n",
    "    model.add(Embedding(len(instance_indexer), w2v_dimensionality, input_length=input_vector_length))\n",
    "    model.add(LSTM(100))\n",
    "    model.add(Dense(1, activation='sigmoid'))\n",
    "    model.compile(loss='categorical_crossentropy', optimizer='adam', metrics=['accuracy'])\n",
    "    print(model.summary())\n",
    "    # model.fit(X, Y, validation_data=(X_test, Y_test), epochs=number_of_epochs, batch_size=batch_size)"
   ]
  },
  {
   "cell_type": "code",
   "execution_count": null,
   "metadata": {},
   "outputs": [],
   "source": []
  }
 ],
 "metadata": {
  "kernelspec": {
   "display_name": "pms",
   "language": "python",
   "name": "pms"
  },
  "language_info": {
   "codemirror_mode": {
    "name": "ipython",
    "version": 3
   },
   "file_extension": ".py",
   "mimetype": "text/x-python",
   "name": "python",
   "nbconvert_exporter": "python",
   "pygments_lexer": "ipython3",
   "version": "3.6.4"
  }
 },
 "nbformat": 4,
 "nbformat_minor": 2
}
