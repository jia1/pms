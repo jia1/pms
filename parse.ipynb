{
 "cells": [
  {
   "cell_type": "code",
   "execution_count": null,
   "metadata": {
    "scrolled": true
   },
   "outputs": [],
   "source": [
    "from gensim.models import KeyedVectors\n",
    "\n",
    "w2v_dimensionality = 300\n",
    "w2v_model = KeyedVectors.load_word2vec_format('data/GoogleNews-vectors-negative300.bin', binary=True)\n",
    "w2v_vector_zero = [0 for i in range(w2v_dimensionality)]"
   ]
  },
  {
   "cell_type": "code",
   "execution_count": null,
   "metadata": {},
   "outputs": [],
   "source": [
    "from lxml import etree\n",
    "\n",
    "file = 'data/semeval2007/train/lexical-sample/english-lexical-sample.train.xml'\n",
    "root = etree.parse(file)"
   ]
  },
  {
   "cell_type": "code",
   "execution_count": null,
   "metadata": {},
   "outputs": [],
   "source": [
    "from keras.models import Sequential, load_model\n",
    "from keras.layers import Dense, Dropout, Embedding, LSTM\n",
    "\n",
    "window_size = 7\n",
    "number_of_vectors = 2 * window_size + 1\n",
    "batch_size = 10\n",
    "number_of_epochs = 3\n",
    "\n",
    "layers = [\n",
    "    LSTM(100),\n",
    "    Dropout(0.5, seed=3000),\n",
    "    Dense(10, activation='softmax')\n",
    "]\n",
    "\n",
    "def generate_model():\n",
    "    model = Sequential()\n",
    "    for layer in layers:\n",
    "        model.add(layer)\n",
    "    model.compile(optimizer='rmsprop',\n",
    "                  metrics=['accuracy'],\n",
    "                  loss='categorical_crossentropy')\n",
    "    print(model.summary())\n",
    "    return model\n",
    "\n",
    "def fit_model(model, X, Y):\n",
    "    model.fit(X, Y,\n",
    "              batch_size=batch_size,\n",
    "              epochs=number_of_epochs)\n",
    "    return model\n",
    "\n",
    "def save_model_to_file(model, file_name):\n",
    "    model.save('{}.h5'.format(file_name))\n",
    "\n",
    "def load_model_from_file(file_name):\n",
    "    model = load_model('{}.h5'.format(file_name))\n",
    "    return model\n",
    "    \n",
    "def evaluate_model(model, X, Y):\n",
    "    score = model.evaluate(X,\n",
    "                           Y,\n",
    "                           batch_size=batch_size)\n",
    "    return score"
   ]
  },
  {
   "cell_type": "code",
   "execution_count": null,
   "metadata": {},
   "outputs": [],
   "source": [
    "from nltk.tokenize import sent_tokenize, word_tokenize\n",
    "\n",
    "lexelts = set()\n",
    "\n",
    "for lexelt in root.findall('lexelt'):\n",
    "    instance_indexer = {}\n",
    "    X = []\n",
    "    Y = []\n",
    "    lexelt_item = lexelt.attrib['item']\n",
    "    lexelt_pos = lexelt.attrib['pos']\n",
    "    for instance in lexelt.findall('instance'):\n",
    "        instance_id = instance.attrib['id']\n",
    "        answer_sense_id = instance.find('answer').attrib['senseid']\n",
    "        instance_indexer[len(Y)] = instance_id # Map instance id to index in X and Y\n",
    "        Y.append(answer_sense_id) # Add sense id (answer) to Y\n",
    "        context = instance.find('context')\n",
    "        head = context.find('head').text.strip()\n",
    "        etree.strip_tags(context, 'head')\n",
    "        sentences = sent_tokenize(context.text)\n",
    "        words = list(map(lambda sentence: word_tokenize(sentence), sentences)) # Tokenize into list of lists\n",
    "        sentence_index, word_index = -1, -1\n",
    "        for (s_index, sentence) in enumerate(words):\n",
    "            for (w_index, word) in enumerate(sentence):\n",
    "                if word == head:\n",
    "                    sentence_index, word_index = s_index, w_index\n",
    "                    break\n",
    "        if sentence_index == -1 or word_index == -1: # Somehow the lexelt does not exist in the context\n",
    "            continue\n",
    "        sentence = words[sentence_index]\n",
    "        left_bound = max(0, word_index - window_size)\n",
    "        right_bound = min(word_index + window_size, len(sentence))\n",
    "        left_pad = 0\n",
    "        w2v_vectors = []\n",
    "        for w_index in range(left_bound, right_bound):\n",
    "            word = sentence[w_index]\n",
    "            if word in w2v_model:\n",
    "                vector = w2v_model[word]\n",
    "                w2v_vectors.append(vector)\n",
    "            else:\n",
    "                if w_index < left_bound + window_size:\n",
    "                    left_pad += 1\n",
    "        right_pad = 2 * window_size + 1 - left_pad - len(w2v_vectors)\n",
    "        input_vectors = [w2v_vector_zero for i in range(left_pad)] + w2v_vectors + [w2v_vector_zero for i in range(right_pad)]\n",
    "        X.append(input_vectors) # Add list of w2v vectors to X\n",
    "    # Create model for the lexelt\n",
    "    model = generate_model()\n",
    "    fit_model(model, X, Y)\n",
    "    save_model_to_file(lexelt_item)\n",
    "    lexelts.add(lexelt_item)\n",
    "    break\n",
    "\n",
    "# ValueError: The first layer in a Sequential model must get an `input_shape` or `batch_input_shape` argument."
   ]
  },
  {
   "cell_type": "code",
   "execution_count": null,
   "metadata": {},
   "outputs": [],
   "source": [
    "for lexelt_item in lexelts:\n",
    "    model = load_model_from_file(lexelt_item)\n",
    "    score = evaluate_model(model)\n",
    "    print(score)"
   ]
  }
 ],
 "metadata": {
  "kernelspec": {
   "display_name": "pms",
   "language": "python",
   "name": "pms"
  },
  "language_info": {
   "codemirror_mode": {
    "name": "ipython",
    "version": 3
   },
   "file_extension": ".py",
   "mimetype": "text/x-python",
   "name": "python",
   "nbconvert_exporter": "python",
   "pygments_lexer": "ipython3",
   "version": "3.6.4"
  }
 },
 "nbformat": 4,
 "nbformat_minor": 2
}
