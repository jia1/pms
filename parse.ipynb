{
 "cells": [
  {
   "cell_type": "code",
   "execution_count": null,
   "metadata": {},
   "outputs": [],
   "source": [
    "from gensim.models import KeyedVectors\n",
    "\n",
    "w2v_model = KeyedVectors.load_word2vec_format('data/GoogleNews-vectors-negative300.bin', binary=True)"
   ]
  },
  {
   "cell_type": "code",
   "execution_count": null,
   "metadata": {},
   "outputs": [],
   "source": [
    "from lxml import etree\n",
    "\n",
    "file = 'data/semeval2007/train/lexical-sample/english-lexical-sample.train.xml'\n",
    "root = etree.parse(file)"
   ]
  },
  {
   "cell_type": "code",
   "execution_count": null,
   "metadata": {},
   "outputs": [],
   "source": [
    "from nltk.tokenize import sent_tokenize, word_tokenize\n",
    "\n",
    "window = 5\n",
    "\n",
    "for lexelt in root.findall('lexelt'):\n",
    "    lexelt_item = lexelt.attrib['item'].split('.')[0]\n",
    "    lexelt_pos = lexelt.attrib['pos']\n",
    "    for instance in lexelt.findall('instance'):\n",
    "        instance_id = instance.attrib['id']\n",
    "        answer_sense_id = instance.find('answer').attrib['senseid']\n",
    "        context = instance.find('context')\n",
    "        head = context.find('head').text.strip()\n",
    "        etree.strip_tags(context, 'head')\n",
    "        sentences = sent_tokenize(context.text)\n",
    "        words = list(map(lambda sentence: word_tokenize(sentence), sentences))\n",
    "        sentence_index, word_index = -1, -1\n",
    "        for (s_index, sentence) in enumerate(words):\n",
    "            for (w_index, word) in enumerate(sentence):\n",
    "                if word == head:\n",
    "                    sentence_index, word_index = s_index, w_index\n",
    "                    break\n",
    "        if sentence_index == -1 or word_index == -1:\n",
    "            continue\n",
    "        sentence = words[sentence_index]\n",
    "        left_bound = max(0, word_index - window)\n",
    "        right_bound = min(word_index + window, len(sentence))\n",
    "        w2v_vectors = []\n",
    "        for w_index in range(left_bound, right_bound):\n",
    "            word = sentence[w_index]\n",
    "            if word in w2v_model:\n",
    "                vector = w2v_model[word]\n",
    "                w2v_vectors.append(vector)\n",
    "        print(len(w2v_vectors))\n",
    "        break\n",
    "    break"
   ]
  },
  {
   "cell_type": "code",
   "execution_count": null,
   "metadata": {},
   "outputs": [],
   "source": []
  }
 ],
 "metadata": {
  "kernelspec": {
   "display_name": "pms",
   "language": "python",
   "name": "pms"
  },
  "language_info": {
   "codemirror_mode": {
    "name": "ipython",
    "version": 3
   },
   "file_extension": ".py",
   "mimetype": "text/x-python",
   "name": "python",
   "nbconvert_exporter": "python",
   "pygments_lexer": "ipython3",
   "version": "3.6.4"
  }
 },
 "nbformat": 4,
 "nbformat_minor": 2
}
